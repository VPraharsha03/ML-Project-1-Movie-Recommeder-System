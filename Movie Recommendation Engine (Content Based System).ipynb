{
 "cells": [
  {
   "cell_type": "code",
   "execution_count": 1,
   "metadata": {},
   "outputs": [],
   "source": [
    "import pandas as pd\n",
    "import numpy as np\n",
    "from sklearn.feature_extraction.text import CountVectorizer\n",
    "from sklearn.metrics.pairwise import cosine_similarity"
   ]
  },
  {
   "cell_type": "code",
   "execution_count": 2,
   "metadata": {},
   "outputs": [
    {
     "data": {
      "application/javascript": [
       "IPython.notebook.set_autosave_interval(0)"
      ]
     },
     "metadata": {},
     "output_type": "display_data"
    },
    {
     "name": "stdout",
     "output_type": "stream",
     "text": [
      "Autosave disabled\n"
     ]
    }
   ],
   "source": [
    "%autosave 0"
   ]
  },
  {
   "cell_type": "code",
   "execution_count": 3,
   "metadata": {},
   "outputs": [],
   "source": [
    "# Helper Functions;\n",
    "def index_to_title(index):\n",
    "    return df[df.index == index][\"title\"].values[0]\n",
    "\n",
    "def title_to_index(title):\n",
    "    return df[df.title == title][\"index\"].values[0]"
   ]
  },
  {
   "cell_type": "code",
   "execution_count": 4,
   "metadata": {},
   "outputs": [],
   "source": [
    "# Reading Dataset\n",
    "df = pd.read_csv(\"movie_dataset.csv\")"
   ]
  },
  {
   "cell_type": "code",
   "execution_count": 42,
   "metadata": {},
   "outputs": [],
   "source": [
    "# Selecting Features (list)\n",
    "#feat = ['keywords','cast','genres','director']\n",
    "\n",
    "#for f in feat:\n",
    "    #df[f] = df[f].fillna('')"
   ]
  },
  {
   "cell_type": "code",
   "execution_count": 60,
   "metadata": {},
   "outputs": [],
   "source": [
    "# Combining selected features into a column in DF\n",
    "#def combine_feat(row):\n",
    "    #return row['keywords']+\" \"+row['cast']+\" \"+row['genres']+\" \"+row['director']\n",
    "\n",
    "#Apply the func/transform to all rows of DF vertically;\n",
    "#df[\"combined_feat\"] = df.apply(combine_feat,axis=1)\n",
    "\n",
    "#print(df[\"combined_feat\"])"
   ]
  },
  {
   "cell_type": "code",
   "execution_count": 43,
   "metadata": {},
   "outputs": [
    {
     "data": {
      "text/plain": [
       "0       culture clash future space war space colony so...\n",
       "1       ocean drug abuse exotic island east india trad...\n",
       "2       spy based on novel secret agent sequel mi6 Dan...\n",
       "3       dc comics crime fighter terrorist secret ident...\n",
       "4       based on novel mars medallion space travel pri...\n",
       "                              ...                        \n",
       "4798    united states\\u2013mexico barrier legs arms pa...\n",
       "4799     Edward Burns Kerry Bish\\u00e9 Marsha Dietlein...\n",
       "4800    date love at first sight narration investigati...\n",
       "4801     Daniel Henney Eliza Coupe Bill Paxton Alan Ru...\n",
       "4802    obsession camcorder crush dream girl Drew Barr...\n",
       "Name: comb_feat, Length: 4803, dtype: object"
      ]
     },
     "execution_count": 43,
     "metadata": {},
     "output_type": "execute_result"
    }
   ],
   "source": [
    "df[\"comb_feat\"] = df[\"keywords\"].fillna('')+\" \"+df[\"cast\"].fillna('')+\" \"+df[\"genres\"].fillna('')+\" \"+df[\"director\"].fillna('')\n",
    "df[\"comb_feat\"]\n",
    "#print(df[\"comb_feat\"])                                                           "
   ]
  },
  {
   "cell_type": "code",
   "execution_count": 44,
   "metadata": {},
   "outputs": [],
   "source": [
    "# Creating a count matrix;\n",
    "cv = CountVectorizer()\n",
    "cm = cv.fit_transform(df[\"comb_feat\"])"
   ]
  },
  {
   "cell_type": "code",
   "execution_count": 45,
   "metadata": {},
   "outputs": [],
   "source": [
    "# Computing Cosine similarity matrix on CountMatrix;\n",
    "cos_sim = cosine_similarity(cm)\n",
    "\n",
    "# Movie user likes\n",
    "mve_pref = \"Spider-Man\"\n",
    "\n",
    "# Get Index of Movie Title;\n",
    "mve_ind = title_to_index(mve_pref)\n",
    "sim_mve = list(enumerate(cos_sim[mve_ind]))\n",
    "\n",
    "#Sorting list of tuples in descending order of similarity score;\n",
    "sort_sim_mve = sorted(sim_mve,key=lambda x:x[1],reverse=True)"
   ]
  },
  {
   "cell_type": "code",
   "execution_count": 46,
   "metadata": {},
   "outputs": [
    {
     "name": "stdout",
     "output_type": "stream",
     "text": [
      "Spider-Man\n",
      "Spider-Man 3\n",
      "Spider-Man 2\n",
      "Highlander: Endgame\n",
      "The Count of Monte Cristo\n",
      "Cold Mountain\n",
      "Oz: The Great and Powerful\n",
      "Daybreakers\n",
      "Hesher\n",
      "Wanted\n",
      "Whale Rider\n"
     ]
    }
   ],
   "source": [
    "#Printing titles of first 10 similar movies\n",
    "i=0\n",
    "for mve in sort_sim_mve:\n",
    "    print(index_to_title(mve[0])) #Passing 0th element of the tuple\n",
    "    i+=1\n",
    "    if i>10:\n",
    "        break"
   ]
  }
 ],
 "metadata": {
  "kernelspec": {
   "display_name": "Python 3",
   "language": "python",
   "name": "python3"
  },
  "language_info": {
   "codemirror_mode": {
    "name": "ipython",
    "version": 3
   },
   "file_extension": ".py",
   "mimetype": "text/x-python",
   "name": "python",
   "nbconvert_exporter": "python",
   "pygments_lexer": "ipython3",
   "version": "3.7.4"
  }
 },
 "nbformat": 4,
 "nbformat_minor": 2
}
